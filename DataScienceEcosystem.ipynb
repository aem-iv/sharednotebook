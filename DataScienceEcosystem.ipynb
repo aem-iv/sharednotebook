{
 "cells": [
  {
   "cell_type": "markdown",
   "id": "1a105be1-1e7c-4021-a987-d414b0005f88",
   "metadata": {},
   "source": [
    "# Data Science Tools and Ecosystem"
   ]
  },
  {
   "cell_type": "markdown",
   "id": "044733ed-ac55-4714-bffc-a71ff049bdf5",
   "metadata": {},
   "source": [
    "In this notebook, Data Science Tools and Ecosystem are summarized.\n",
    "\n"
   ]
  },
  {
   "cell_type": "markdown",
   "id": "089ba238-1169-4b30-a18a-c913f7124ab4",
   "metadata": {},
   "source": [
    "__Objectives:__\n",
    "- List popular languages for Data Science\n",
    "- List popular libraries for Data Science\n",
    "- Practice using Markdown"
   ]
  },
  {
   "cell_type": "markdown",
   "id": "e851f42b-39c4-4df7-8663-573f91be07e1",
   "metadata": {},
   "source": [
    "Some of the popular languages that Data Scientists use are:\n",
    "1. Python\n",
    "2. R\n",
    "3. Julia"
   ]
  },
  {
   "cell_type": "markdown",
   "id": "66ba9ecf-c327-4ce4-99c0-df3d729f4de9",
   "metadata": {},
   "source": [
    "Some of the commonly used libraries used by Data Scientists include:\n",
    "1. ggplot2\n",
    "2. dyplr\n",
    "3. tidyr\n",
    "4. matplotlib\n",
    "5. seaborn\n",
    "6. scikit-learn\n",
    "7. numpy\n",
    "8. pandas\n",
    "   "
   ]
  },
  {
   "cell_type": "markdown",
   "id": "de74434c-abd8-4f5b-ac3f-6aca7d1afd8d",
   "metadata": {},
   "source": [
    "| Data Science Tools |\n",
    "|--------------------|\n",
    "| RStudio |\n",
    "| Spyder |\n",
    "| Anaconda |\n"
   ]
  },
  {
   "cell_type": "markdown",
   "id": "d0c20c06-ff0e-45f3-b178-df4d3cacaa84",
   "metadata": {},
   "source": [
    "### Below are a few examples of evaluating arithmetic expressions in Python"
   ]
  },
  {
   "cell_type": "code",
   "execution_count": 2,
   "id": "ed9f9326-ac6f-45a4-b50e-6f0dbb5fbb3f",
   "metadata": {},
   "outputs": [
    {
     "data": {
      "text/plain": [
       "17"
      ]
     },
     "execution_count": 2,
     "metadata": {},
     "output_type": "execute_result"
    }
   ],
   "source": [
    "# This a simple arithmetic expression to multiply, then add integers\n",
    "(3*4)+5"
   ]
  },
  {
   "cell_type": "code",
   "execution_count": 3,
   "id": "ee05c460-ecd5-464f-8363-206ef43a8faa",
   "metadata": {},
   "outputs": [
    {
     "data": {
      "text/plain": [
       "3.3333333333333335"
      ]
     },
     "execution_count": 3,
     "metadata": {},
     "output_type": "execute_result"
    }
   ],
   "source": [
    "# This will convert 200 minutes to hours by diving by 60\n",
    "200 / 60"
   ]
  },
  {
   "cell_type": "markdown",
   "id": "14a9d1d6-6d51-4483-a19e-cac780156031",
   "metadata": {},
   "source": [
    "## Author\n",
    "Antonio Martinez"
   ]
  }
 ],
 "metadata": {
  "kernelspec": {
   "display_name": "Python 3 (ipykernel)",
   "language": "python",
   "name": "python3"
  },
  "language_info": {
   "codemirror_mode": {
    "name": "ipython",
    "version": 3
   },
   "file_extension": ".py",
   "mimetype": "text/x-python",
   "name": "python",
   "nbconvert_exporter": "python",
   "pygments_lexer": "ipython3",
   "version": "3.12.8"
  }
 },
 "nbformat": 4,
 "nbformat_minor": 5
}
